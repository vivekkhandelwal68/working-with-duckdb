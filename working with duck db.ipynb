{
 "cells": [
  {
   "cell_type": "code",
   "execution_count": 1,
   "id": "f9f951a8-6d54-4765-bd3c-636298a36625",
   "metadata": {},
   "outputs": [],
   "source": [
    "import duckdb"
   ]
  },
  {
   "cell_type": "code",
   "execution_count": 2,
   "id": "ef39affa-2ba2-4d45-9e9f-a56d35d6cfde",
   "metadata": {},
   "outputs": [],
   "source": [
    "# working with flight data\n",
    "flight_sql = \"select * from 'https://raw.githubusercontent.com/vivekkhandelwal68/seaborn-data/master/flights.csv'\""
   ]
  },
  {
   "cell_type": "code",
   "execution_count": 3,
   "id": "ae718285-4f28-417e-8eca-4b032e1bb370",
   "metadata": {},
   "outputs": [
    {
     "data": {
      "text/plain": [
       "duckdb.duckdb.DuckDBPyRelation"
      ]
     },
     "execution_count": 3,
     "metadata": {},
     "output_type": "execute_result"
    }
   ],
   "source": [
    "# duckdb.sql function provides a relation\n",
    "flight_rel = duckdb.sql(flight_sql)\n",
    "type(flight_rel)"
   ]
  },
  {
   "cell_type": "code",
   "execution_count": 4,
   "id": "7cbd1ffd-8039-4536-b955-baf7d098a609",
   "metadata": {},
   "outputs": [
    {
     "name": "stdout",
     "output_type": "stream",
     "text": [
      "┌───────┬───────────┬────────────┐\n",
      "│ year  │   month   │ passengers │\n",
      "│ int64 │  varchar  │   int64    │\n",
      "├───────┼───────────┼────────────┤\n",
      "│  1949 │ January   │        112 │\n",
      "│  1949 │ February  │        118 │\n",
      "│  1949 │ March     │        132 │\n",
      "│  1949 │ April     │        129 │\n",
      "│  1949 │ May       │        121 │\n",
      "│  1949 │ June      │        135 │\n",
      "│  1949 │ July      │        148 │\n",
      "│  1949 │ August    │        148 │\n",
      "│  1949 │ September │        136 │\n",
      "│  1949 │ October   │        119 │\n",
      "│    ·  │   ·       │         ·  │\n",
      "│    ·  │   ·       │         ·  │\n",
      "│    ·  │   ·       │         ·  │\n",
      "│  1960 │ March     │        419 │\n",
      "│  1960 │ April     │        461 │\n",
      "│  1960 │ May       │        472 │\n",
      "│  1960 │ June      │        535 │\n",
      "│  1960 │ July      │        622 │\n",
      "│  1960 │ August    │        606 │\n",
      "│  1960 │ September │        508 │\n",
      "│  1960 │ October   │        461 │\n",
      "│  1960 │ November  │        390 │\n",
      "│  1960 │ December  │        432 │\n",
      "├───────┴───────────┴────────────┤\n",
      "│ 144 rows (20 shown)  3 columns │\n",
      "└────────────────────────────────┘\n",
      "\n"
     ]
    }
   ],
   "source": [
    "# calling show on realtion object print the relation in tabular format\n",
    "flight_rel.show()"
   ]
  },
  {
   "cell_type": "code",
   "execution_count": 5,
   "id": "c0053070-e511-45a2-a522-288724a15544",
   "metadata": {},
   "outputs": [
    {
     "data": {
      "text/plain": [
       "┌───────┬─────────┬────────────┐\n",
       "│ year  │  month  │ passengers │\n",
       "│ int64 │ varchar │   int64    │\n",
       "├───────┼─────────┼────────────┤\n",
       "│  1949 │ July    │        148 │\n",
       "│  1950 │ July    │        170 │\n",
       "│  1951 │ July    │        199 │\n",
       "│  1952 │ July    │        230 │\n",
       "│  1953 │ July    │        264 │\n",
       "│  1954 │ July    │        302 │\n",
       "│  1955 │ July    │        364 │\n",
       "│  1956 │ July    │        413 │\n",
       "│  1957 │ July    │        465 │\n",
       "│  1958 │ July    │        491 │\n",
       "│  1959 │ July    │        548 │\n",
       "│  1960 │ July    │        622 │\n",
       "├───────┴─────────┴────────────┤\n",
       "│ 12 rows            3 columns │\n",
       "└──────────────────────────────┘"
      ]
     },
     "execution_count": 5,
     "metadata": {},
     "output_type": "execute_result"
    }
   ],
   "source": [
    "# use of where clause\n",
    "duckdb.sql(\"select * from flight_rel where month='July'\")"
   ]
  },
  {
   "cell_type": "code",
   "execution_count": 6,
   "id": "e5d397c1-3462-4b43-88fe-15a876165b37",
   "metadata": {},
   "outputs": [
    {
     "data": {
      "text/plain": [
       "┌───────┬──────────────────┐\n",
       "│ year  │ total_passengers │\n",
       "│ int64 │      int128      │\n",
       "├───────┼──────────────────┤\n",
       "│  1949 │             1520 │\n",
       "│  1950 │             1676 │\n",
       "│  1951 │             2042 │\n",
       "│  1952 │             2364 │\n",
       "│  1953 │             2700 │\n",
       "│  1954 │             2867 │\n",
       "│  1955 │             3408 │\n",
       "│  1956 │             3939 │\n",
       "│  1957 │             4421 │\n",
       "│  1958 │             4572 │\n",
       "│  1959 │             5140 │\n",
       "│  1960 │             5714 │\n",
       "├───────┴──────────────────┤\n",
       "│ 12 rows        2 columns │\n",
       "└──────────────────────────┘"
      ]
     },
     "execution_count": 6,
     "metadata": {},
     "output_type": "execute_result"
    }
   ],
   "source": [
    "# use of group by and having where total passengers count is greater than 200\n",
    "duckdb.sql(\"select year, sum(passengers) as total_passengers from flight_rel group by year having sum(passengers) > 200 order by 1\")"
   ]
  },
  {
   "cell_type": "code",
   "execution_count": 7,
   "id": "ef6245c1-5338-4f5a-be08-625028c73c17",
   "metadata": {},
   "outputs": [
    {
     "name": "stdout",
     "output_type": "stream",
     "text": [
      "┌───────┬────────┬────────┬──────────┬──────────┬───┬────────┬────────┬────────┬──────────┬─────────┬───────────┐\n",
      "│ year  │ April  │ August │ December │ February │ … │  June  │ March  │  May   │ November │ October │ September │\n",
      "│ int64 │ int128 │ int128 │  int128  │  int128  │   │ int128 │ int128 │ int128 │  int128  │ int128  │  int128   │\n",
      "├───────┼────────┼────────┼──────────┼──────────┼───┼────────┼────────┼────────┼──────────┼─────────┼───────────┤\n",
      "│  1951 │    163 │    199 │      166 │      150 │ … │    178 │    178 │    172 │      146 │     162 │       184 │\n",
      "│    ·  │     ·  │     ·  │       ·  │       ·  │ · │     ·  │     ·  │     ·  │       ·  │      ·  │        ·  │\n",
      "│    ·  │     ·  │     ·  │       ·  │       ·  │ · │     ·  │     ·  │     ·  │       ·  │      ·  │        ·  │\n",
      "│    ·  │     ·  │     ·  │       ·  │       ·  │ · │     ·  │     ·  │     ·  │       ·  │      ·  │        ·  │\n",
      "│  1949 │    129 │    148 │      118 │      118 │ … │    135 │    132 │    121 │      104 │     119 │       136 │\n",
      "├───────┴────────┴────────┴──────────┴──────────┴───┴────────┴────────┴────────┴──────────┴─────────┴───────────┤\n",
      "│ 12 rows (2 shown)                                                                       13 columns (11 shown) │\n",
      "└───────────────────────────────────────────────────────────────────────────────────────────────────────────────┘\n",
      "\n"
     ]
    }
   ],
   "source": [
    "# working with Pivot operator\n",
    "pivot_rel = duckdb.sql(\"SELECT * FROM (PIVOT flight_rel ON month USING sum(passengers) GROUP BY year)\")\n",
    "pivot_rel.show(max_rows=2)"
   ]
  },
  {
   "cell_type": "code",
   "execution_count": 8,
   "id": "9664607c-83c3-4157-b4a0-3f7d6ccb33b2",
   "metadata": {},
   "outputs": [],
   "source": [
    "# stroing file as parquet\n",
    "pivot_rel.write_parquet(\"flight_pivot.parquet\")"
   ]
  },
  {
   "cell_type": "code",
   "execution_count": 9,
   "id": "68951732-3f90-4224-bdbc-5d18e86b671e",
   "metadata": {},
   "outputs": [
    {
     "data": {
      "text/plain": [
       "┌───────┬────────┬────────┬──────────┬──────────┬───┬────────┬────────┬────────┬──────────┬─────────┬───────────┐\n",
       "│ year  │ April  │ August │ December │ February │ … │  June  │ March  │  May   │ November │ October │ September │\n",
       "│ int64 │ double │ double │  double  │  double  │   │ double │ double │ double │  double  │ double  │  double   │\n",
       "├───────┼────────┼────────┼──────────┼──────────┼───┼────────┼────────┼────────┼──────────┼─────────┼───────────┤\n",
       "│  1951 │  163.0 │  199.0 │    166.0 │    150.0 │ … │  178.0 │  178.0 │  172.0 │    146.0 │   162.0 │     184.0 │\n",
       "│  1960 │  461.0 │  606.0 │    432.0 │    391.0 │ … │  535.0 │  419.0 │  472.0 │    390.0 │   461.0 │     508.0 │\n",
       "│  1954 │  227.0 │  293.0 │    229.0 │    188.0 │ … │  264.0 │  235.0 │  234.0 │    203.0 │   229.0 │     259.0 │\n",
       "│  1958 │  348.0 │  505.0 │    337.0 │    318.0 │ … │  435.0 │  362.0 │  363.0 │    310.0 │   359.0 │     404.0 │\n",
       "│  1955 │  269.0 │  347.0 │    278.0 │    233.0 │ … │  315.0 │  267.0 │  270.0 │    237.0 │   274.0 │     312.0 │\n",
       "│  1953 │  235.0 │  272.0 │    201.0 │    196.0 │ … │  243.0 │  236.0 │  229.0 │    180.0 │   211.0 │     237.0 │\n",
       "│  1957 │  348.0 │  467.0 │    336.0 │    301.0 │ … │  422.0 │  356.0 │  355.0 │    305.0 │   347.0 │     404.0 │\n",
       "│  1956 │  313.0 │  405.0 │    306.0 │    277.0 │ … │  374.0 │  317.0 │  318.0 │    271.0 │   306.0 │     355.0 │\n",
       "│  1950 │  135.0 │  170.0 │    140.0 │    126.0 │ … │  149.0 │  141.0 │  125.0 │    114.0 │   133.0 │     158.0 │\n",
       "│  1959 │  396.0 │  559.0 │    405.0 │    342.0 │ … │  472.0 │  406.0 │  420.0 │    362.0 │   407.0 │     463.0 │\n",
       "│  1952 │  181.0 │  242.0 │    194.0 │    180.0 │ … │  218.0 │  193.0 │  183.0 │    172.0 │   191.0 │     209.0 │\n",
       "│  1949 │  129.0 │  148.0 │    118.0 │    118.0 │ … │  135.0 │  132.0 │  121.0 │    104.0 │   119.0 │     136.0 │\n",
       "├───────┴────────┴────────┴──────────┴──────────┴───┴────────┴────────┴────────┴──────────┴─────────┴───────────┤\n",
       "│ 12 rows                                                                                 13 columns (11 shown) │\n",
       "└───────────────────────────────────────────────────────────────────────────────────────────────────────────────┘"
      ]
     },
     "execution_count": 9,
     "metadata": {},
     "output_type": "execute_result"
    }
   ],
   "source": [
    "# reading parquet into relation(in same manner read_csv, read_parquet, read_json can be used for creating realtion)\n",
    "paruet_rel = duckdb.read_parquet(\"flight_pivot.parquet\")\n",
    "paruet_rel"
   ]
  },
  {
   "cell_type": "code",
   "execution_count": 10,
   "id": "919b6f04-4ff0-44be-a496-ca5f13620773",
   "metadata": {},
   "outputs": [
    {
     "data": {
      "text/plain": [
       "┌───────┬───────────┬────────────┬───────┐\n",
       "│ year  │   month   │ passengers │  rn   │\n",
       "│ int64 │  varchar  │   int64    │ int64 │\n",
       "├───────┼───────────┼────────────┼───────┤\n",
       "│  1953 │ July      │        264 │     1 │\n",
       "│  1953 │ August    │        272 │     2 │\n",
       "│  1953 │ September │        237 │     3 │\n",
       "│  1953 │ October   │        211 │     4 │\n",
       "│  1953 │ November  │        180 │     5 │\n",
       "│  1953 │ December  │        201 │     6 │\n",
       "│  1953 │ January   │        196 │     7 │\n",
       "│  1953 │ February  │        196 │     8 │\n",
       "│  1953 │ March     │        236 │     9 │\n",
       "│  1953 │ April     │        235 │    10 │\n",
       "│    ·  │   ·       │         ·  │     · │\n",
       "│    ·  │   ·       │         ·  │     · │\n",
       "│    ·  │   ·       │         ·  │     · │\n",
       "│  1960 │ September │        508 │     9 │\n",
       "│  1960 │ October   │        461 │    10 │\n",
       "│  1960 │ November  │        390 │    11 │\n",
       "│  1960 │ December  │        432 │    12 │\n",
       "│  1956 │ July      │        413 │     7 │\n",
       "│  1956 │ August    │        405 │     8 │\n",
       "│  1956 │ September │        355 │     9 │\n",
       "│  1956 │ October   │        306 │    10 │\n",
       "│  1956 │ November  │        271 │    11 │\n",
       "│  1956 │ December  │        306 │    12 │\n",
       "├───────┴───────────┴────────────┴───────┤\n",
       "│ 144 rows (20 shown)          4 columns │\n",
       "└────────────────────────────────────────┘"
      ]
     },
     "execution_count": 10,
     "metadata": {},
     "output_type": "execute_result"
    }
   ],
   "source": [
    "# generating row numbers\n",
    "duckdb.sql(\"select * , row_number() over( partition by year order by year desc) as rn from flight_rel\")"
   ]
  },
  {
   "cell_type": "code",
   "execution_count": 11,
   "id": "3bb7679e-ab53-4470-a555-58140a350d40",
   "metadata": {},
   "outputs": [
    {
     "name": "stdout",
     "output_type": "stream",
     "text": [
      "┌────────────────────┬──────────┬───────────────────┬───┬──────────────────────┬──────────────────────┬──────────┐\n",
      "│      @context      │  @type   │        url        │ … │        review        │   aggregateRating    │ duration │\n",
      "│      varchar       │ varchar  │      varchar      │   │ struct(\"@type\" var…  │ struct(\"@type\" var…  │ varchar  │\n",
      "├────────────────────┼──────────┼───────────────────┼───┼──────────────────────┼──────────────────────┼──────────┤\n",
      "│ https://schema.org │ Movie    │ /title/tt0209144/ │ … │ {'@type': Review, …  │ {'@type': Aggregat…  │ PT1H53M  │\n",
      "│ https://schema.org │ Movie    │ /title/tt6723592/ │ … │ {'@type': Review, …  │ {'@type': Aggregat…  │ PT2H30M  │\n",
      "│ https://schema.org │ Movie    │ /title/tt5013056/ │ … │ {'@type': Review, …  │ {'@type': Aggregat…  │ PT1H46M  │\n",
      "│ https://schema.org │ Movie    │ /title/tt0816692/ │ … │ {'@type': Review, …  │ {'@type': Aggregat…  │ PT2H49M  │\n",
      "│ https://schema.org │ Movie    │ /title/tt0770828/ │ … │ {'@type': Review, …  │ {'@type': Aggregat…  │ PT2H23M  │\n",
      "│ https://schema.org │ Movie    │ /title/tt1345836/ │ … │ {'@type': Review, …  │ {'@type': Aggregat…  │ PT2H44M  │\n",
      "│ https://schema.org │ Movie    │ /title/tt5295894/ │ … │ {'@type': Review, …  │ {'@type': Aggregat…  │ PT15M    │\n",
      "│ https://schema.org │ Movie    │ /title/tt1375666/ │ … │ {'@type': Review, …  │ {'@type': Aggregat…  │ PT2H28M  │\n",
      "│ https://schema.org │ Movie    │ /title/tt1166100/ │ … │ {'@type': Review, …  │ {'@type': Aggregat…  │ PT3H6M   │\n",
      "│ https://schema.org │ Movie    │ /title/tt0468569/ │ … │ {'@type': Review, …  │ {'@type': Aggregat…  │ PT2H32M  │\n",
      "│         ·          │   ·      │         ·         │ · │          ·           │          ·           │  ·       │\n",
      "│         ·          │   ·      │         ·         │ · │          ·           │          ·           │  ·       │\n",
      "│         ·          │   ·      │         ·         │ · │          ·           │          ·           │  ·       │\n",
      "│ https://schema.org │ TVSeries │ /title/tt0090523/ │ … │ {'@type': Review, …  │ {'@type': Aggregat…  │ NULL     │\n",
      "│ https://schema.org │ TVSeries │ /title/tt7252086/ │ … │ {'@type': Review, …  │ {'@type': Aggregat…  │ NULL     │\n",
      "│ https://schema.org │ TVSeries │ /title/tt9496010/ │ … │ {'@type': Review, …  │ {'@type': Aggregat…  │ NULL     │\n",
      "│ https://schema.org │ TVSeries │ /title/tt2610260/ │ … │ {'@type': Review, …  │ {'@type': Aggregat…  │ NULL     │\n",
      "│ https://schema.org │ TVSeries │ /title/tt0167515/ │ … │ {'@type': Review, …  │ {'@type': Aggregat…  │ NULL     │\n",
      "│ https://schema.org │ TVSeries │ /title/tt0247094/ │ … │ {'@type': Review, …  │ {'@type': Aggregat…  │ NULL     │\n",
      "│ https://schema.org │ TVSeries │ /title/tt7229822/ │ … │ NULL                 │ {'@type': Aggregat…  │ NULL     │\n",
      "│ https://schema.org │ TVSeries │ /title/tt2241422/ │ … │ {'@type': Review, …  │ {'@type': Aggregat…  │ NULL     │\n",
      "│ https://schema.org │ Movie    │ /title/tt1599373/ │ … │ {'@type': Review, …  │ {'@type': Aggregat…  │ PT1H30M  │\n",
      "│ https://schema.org │ TVSeries │ /title/tt0318251/ │ … │ NULL                 │ {'@type': Aggregat…  │ NULL     │\n",
      "├────────────────────┴──────────┴───────────────────┴───┴──────────────────────┴──────────────────────┴──────────┤\n",
      "│ 144 rows (20 shown)                                                                       17 columns (6 shown) │\n",
      "└────────────────────────────────────────────────────────────────────────────────────────────────────────────────┘\n",
      "\n"
     ]
    }
   ],
   "source": [
    "# reading json into a realtion\n",
    "movie_rel = duckdb.read_json(\"https://raw.githubusercontent.com/vivekkhandelwal68/imdb-scrap/master/output/nolanDB.json\")\n",
    "movie_rel.show(max_rows=20)"
   ]
  },
  {
   "cell_type": "code",
   "execution_count": 12,
   "id": "493e356c-66cd-4736-b779-6c21876d5e14",
   "metadata": {},
   "outputs": [
    {
     "data": {
      "text/plain": [
       "['@context',\n",
       " '@type',\n",
       " 'url',\n",
       " 'name',\n",
       " 'image',\n",
       " 'contentRating',\n",
       " 'genre',\n",
       " 'actor',\n",
       " 'director',\n",
       " 'creator',\n",
       " 'trailer',\n",
       " 'datePublished',\n",
       " 'description',\n",
       " 'keywords',\n",
       " 'review',\n",
       " 'aggregateRating',\n",
       " 'duration']"
      ]
     },
     "execution_count": 12,
     "metadata": {},
     "output_type": "execute_result"
    }
   ],
   "source": [
    "# Showing all relation columns\n",
    "movie_rel.columns"
   ]
  },
  {
   "cell_type": "code",
   "execution_count": 13,
   "id": "ef1ee7df-fc8a-4160-b63e-8d512ee8aee2",
   "metadata": {},
   "outputs": [
    {
     "data": {
      "text/plain": [
       "[VARCHAR,\n",
       " VARCHAR,\n",
       " VARCHAR,\n",
       " VARCHAR,\n",
       " VARCHAR,\n",
       " VARCHAR,\n",
       " VARCHAR[],\n",
       " STRUCT(\"@type\" VARCHAR, url VARCHAR, \"name\" VARCHAR)[],\n",
       " STRUCT(\"@type\" VARCHAR, url VARCHAR, \"name\" VARCHAR)[],\n",
       " STRUCT(\"@type\" VARCHAR, url VARCHAR, \"name\" VARCHAR)[],\n",
       " STRUCT(\"@type\" VARCHAR, \"name\" VARCHAR, embedUrl VARCHAR, thumbnail STRUCT(\"@type\" VARCHAR, contentUrl VARCHAR), thumbnailUrl VARCHAR, description VARCHAR),\n",
       " DATE,\n",
       " VARCHAR,\n",
       " VARCHAR,\n",
       " STRUCT(\"@type\" VARCHAR, itemReviewed STRUCT(\"@type\" VARCHAR, url VARCHAR), author STRUCT(\"@type\" VARCHAR, \"name\" VARCHAR), dateCreated DATE, inLanguage VARCHAR, \"name\" VARCHAR, reviewBody VARCHAR, reviewRating STRUCT(\"@type\" VARCHAR, worstRating BIGINT, bestRating BIGINT, ratingValue BIGINT)),\n",
       " STRUCT(\"@type\" VARCHAR, ratingCount BIGINT, bestRating BIGINT, worstRating BIGINT, ratingValue DOUBLE),\n",
       " VARCHAR]"
      ]
     },
     "execution_count": 13,
     "metadata": {},
     "output_type": "execute_result"
    }
   ],
   "source": [
    "# showing all relation columns datatypes\n",
    "movie_rel.dtypes"
   ]
  },
  {
   "cell_type": "code",
   "execution_count": 14,
   "id": "5289d242-0e79-4840-b1a1-35d22f4b45f3",
   "metadata": {},
   "outputs": [
    {
     "data": {
      "text/plain": [
       "┌─────────┬────────────────────┬───────────┬───┬──────────────────────┬──────────────────────┬──────────┐\n",
       "│  aggr   │      @context      │   @type   │ … │        review        │   aggregateRating    │ duration │\n",
       "│ varchar │      varchar       │  varchar  │   │       varchar        │       varchar        │ varchar  │\n",
       "├─────────┼────────────────────┼───────────┼───┼──────────────────────┼──────────────────────┼──────────┤\n",
       "│ count   │ 144                │ 144       │ … │ 72                   │ 134                  │ 89       │\n",
       "│ mean    │ NULL               │ NULL      │ … │ NULL                 │ NULL                 │ NULL     │\n",
       "│ stddev  │ NULL               │ NULL      │ … │ NULL                 │ NULL                 │ NULL     │\n",
       "│ min     │ https://schema.org │ Movie     │ … │ {'@type': Review, …  │ {'@type': Aggregat…  │ PT12M    │\n",
       "│ max     │ https://schema.org │ VideoGame │ … │ {'@type': Review, …  │ {'@type': Aggregat…  │ PT9M     │\n",
       "│ median  │ NULL               │ NULL      │ … │ NULL                 │ NULL                 │ NULL     │\n",
       "├─────────┴────────────────────┴───────────┴───┴──────────────────────┴──────────────────────┴──────────┤\n",
       "│ 6 rows                                                                           18 columns (6 shown) │\n",
       "└───────────────────────────────────────────────────────────────────────────────────────────────────────┘"
      ]
     },
     "execution_count": 14,
     "metadata": {},
     "output_type": "execute_result"
    }
   ],
   "source": [
    "# describe relation\n",
    "movie_rel.describe()"
   ]
  },
  {
   "cell_type": "code",
   "execution_count": 15,
   "id": "f99d3486-af11-40d7-b927-b5c68f9c6ebc",
   "metadata": {},
   "outputs": [
    {
     "name": "stdout",
     "output_type": "stream",
     "text": [
      "┌───────┬───────────┬────────────┐\n",
      "│ year  │   month   │ passengers │\n",
      "│ int64 │  varchar  │   int64    │\n",
      "├───────┼───────────┼────────────┤\n",
      "│  1949 │ January   │        112 │\n",
      "│  1949 │ February  │        118 │\n",
      "│  1949 │ March     │        132 │\n",
      "│  1949 │ April     │        129 │\n",
      "│  1949 │ May       │        121 │\n",
      "│  1949 │ June      │        135 │\n",
      "│  1949 │ July      │        148 │\n",
      "│  1949 │ August    │        148 │\n",
      "│  1949 │ September │        136 │\n",
      "│  1949 │ October   │        119 │\n",
      "│    ·  │   ·       │         ·  │\n",
      "│    ·  │   ·       │         ·  │\n",
      "│    ·  │   ·       │         ·  │\n",
      "│  1960 │ March     │        419 │\n",
      "│  1960 │ April     │        461 │\n",
      "│  1960 │ May       │        472 │\n",
      "│  1960 │ June      │        535 │\n",
      "│  1960 │ July      │        622 │\n",
      "│  1960 │ August    │        606 │\n",
      "│  1960 │ September │        508 │\n",
      "│  1960 │ October   │        461 │\n",
      "│  1960 │ November  │        390 │\n",
      "│  1960 │ December  │        432 │\n",
      "├───────┴───────────┴────────────┤\n",
      "│ 144 rows (20 shown)  3 columns │\n",
      "└────────────────────────────────┘\n",
      "\n"
     ]
    }
   ],
   "source": [
    "## creating connection to new database\n",
    "con = duckdb.connect(\"flight.db\")\n",
    "con.sql(\"CREATE OR REPLACE TABLE flight_tbl as select * from flight_rel\")\n",
    "con.sql(\"SELECT * FROM flight_tbl\").show()"
   ]
  }
 ],
 "metadata": {
  "kernelspec": {
   "display_name": "Python 3 (ipykernel)",
   "language": "python",
   "name": "python3"
  },
  "language_info": {
   "codemirror_mode": {
    "name": "ipython",
    "version": 3
   },
   "file_extension": ".py",
   "mimetype": "text/x-python",
   "name": "python",
   "nbconvert_exporter": "python",
   "pygments_lexer": "ipython3",
   "version": "3.8.18"
  }
 },
 "nbformat": 4,
 "nbformat_minor": 5
}
