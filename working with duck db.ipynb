{
 "cells": [
  {
   "cell_type": "code",
   "execution_count": 26,
   "id": "f9f951a8-6d54-4765-bd3c-636298a36625",
   "metadata": {},
   "outputs": [],
   "source": [
    "import duckdb\n",
    "import pandas as pd"
   ]
  },
  {
   "cell_type": "code",
   "execution_count": 30,
   "id": "ef39affa-2ba2-4d45-9e9f-a56d35d6cfde",
   "metadata": {},
   "outputs": [],
   "source": [
    "# working with flight data\n",
    "flight_sql = \"select * from 'https://raw.githubusercontent.com/mwaskom/seaborn-data/master/flights.csv'\""
   ]
  },
  {
   "cell_type": "code",
   "execution_count": 25,
   "id": "ae718285-4f28-417e-8eca-4b032e1bb370",
   "metadata": {},
   "outputs": [
    {
     "name": "stdout",
     "output_type": "stream",
     "text": [
      "┌───────┬───────────┬────────────┐\n",
      "│ year  │   month   │ passengers │\n",
      "│ int64 │  varchar  │   int64    │\n",
      "├───────┼───────────┼────────────┤\n",
      "│  1949 │ January   │        112 │\n",
      "│  1949 │ February  │        118 │\n",
      "│  1949 │ March     │        132 │\n",
      "│  1949 │ April     │        129 │\n",
      "│  1949 │ May       │        121 │\n",
      "│  1949 │ June      │        135 │\n",
      "│  1949 │ July      │        148 │\n",
      "│  1949 │ August    │        148 │\n",
      "│  1949 │ September │        136 │\n",
      "│  1949 │ October   │        119 │\n",
      "│    ·  │   ·       │         ·  │\n",
      "│    ·  │   ·       │         ·  │\n",
      "│    ·  │   ·       │         ·  │\n",
      "│  1960 │ March     │        419 │\n",
      "│  1960 │ April     │        461 │\n",
      "│  1960 │ May       │        472 │\n",
      "│  1960 │ June      │        535 │\n",
      "│  1960 │ July      │        622 │\n",
      "│  1960 │ August    │        606 │\n",
      "│  1960 │ September │        508 │\n",
      "│  1960 │ October   │        461 │\n",
      "│  1960 │ November  │        390 │\n",
      "│  1960 │ December  │        432 │\n",
      "├───────┴───────────┴────────────┤\n",
      "│ 144 rows (20 shown)  3 columns │\n",
      "└────────────────────────────────┘\n",
      "\n"
     ]
    }
   ],
   "source": [
    "flight_df = duckdb.sql(flight_sql)\n",
    "flight_df.show()"
   ]
  },
  {
   "cell_type": "code",
   "execution_count": 31,
   "id": "c0053070-e511-45a2-a522-288724a15544",
   "metadata": {},
   "outputs": [
    {
     "data": {
      "text/plain": [
       "┌───────┬─────────┬────────────┐\n",
       "│ year  │  month  │ passengers │\n",
       "│ int64 │ varchar │   int64    │\n",
       "├───────┼─────────┼────────────┤\n",
       "│  1949 │ July    │        148 │\n",
       "│  1950 │ July    │        170 │\n",
       "│  1951 │ July    │        199 │\n",
       "│  1952 │ July    │        230 │\n",
       "│  1953 │ July    │        264 │\n",
       "│  1954 │ July    │        302 │\n",
       "│  1955 │ July    │        364 │\n",
       "│  1956 │ July    │        413 │\n",
       "│  1957 │ July    │        465 │\n",
       "│  1958 │ July    │        491 │\n",
       "│  1959 │ July    │        548 │\n",
       "│  1960 │ July    │        622 │\n",
       "├───────┴─────────┴────────────┤\n",
       "│ 12 rows            3 columns │\n",
       "└──────────────────────────────┘"
      ]
     },
     "execution_count": 31,
     "metadata": {},
     "output_type": "execute_result"
    }
   ],
   "source": [
    "# use of where clause\n",
    "duckdb.sql(\"select * from flight_df where month='July'\")"
   ]
  },
  {
   "cell_type": "code",
   "execution_count": 38,
   "id": "e5d397c1-3462-4b43-88fe-15a876165b37",
   "metadata": {},
   "outputs": [
    {
     "data": {
      "text/plain": [
       "┌───────┬──────────────────┐\n",
       "│ year  │ total_passengers │\n",
       "│ int64 │      int128      │\n",
       "├───────┼──────────────────┤\n",
       "│  1949 │             1520 │\n",
       "│  1950 │             1676 │\n",
       "│  1951 │             2042 │\n",
       "│  1952 │             2364 │\n",
       "│  1953 │             2700 │\n",
       "│  1954 │             2867 │\n",
       "│  1955 │             3408 │\n",
       "│  1956 │             3939 │\n",
       "│  1957 │             4421 │\n",
       "│  1958 │             4572 │\n",
       "│  1959 │             5140 │\n",
       "│  1960 │             5714 │\n",
       "├───────┴──────────────────┤\n",
       "│ 12 rows        2 columns │\n",
       "└──────────────────────────┘"
      ]
     },
     "execution_count": 38,
     "metadata": {},
     "output_type": "execute_result"
    }
   ],
   "source": [
    "# use of group by and having where total passengers count is greater than 200\n",
    "duckdb.sql(\"select year, sum(passengers) as total_passengers from flight_df group by year having sum(passengers) > 200 order by 1\")"
   ]
  },
  {
   "cell_type": "code",
   "execution_count": 39,
   "id": "ef6245c1-5338-4f5a-be08-625028c73c17",
   "metadata": {},
   "outputs": [
    {
     "data": {
      "text/plain": [
       "┌───────┬────────┬────────┬──────────┬──────────┬─────────┬────────┬────────┬────────┬────────┬──────────┬─────────┬───────────┐\n",
       "│ year  │ April  │ August │ December │ February │ January │  July  │  June  │ March  │  May   │ November │ October │ September │\n",
       "│ int64 │ int128 │ int128 │  int128  │  int128  │ int128  │ int128 │ int128 │ int128 │ int128 │  int128  │ int128  │  int128   │\n",
       "├───────┼────────┼────────┼──────────┼──────────┼─────────┼────────┼────────┼────────┼────────┼──────────┼─────────┼───────────┤\n",
       "│  1951 │    163 │    199 │      166 │      150 │     145 │    199 │    178 │    178 │    172 │      146 │     162 │       184 │\n",
       "│  1960 │    461 │    606 │      432 │      391 │     417 │    622 │    535 │    419 │    472 │      390 │     461 │       508 │\n",
       "│  1954 │    227 │    293 │      229 │      188 │     204 │    302 │    264 │    235 │    234 │      203 │     229 │       259 │\n",
       "│  1958 │    348 │    505 │      337 │      318 │     340 │    491 │    435 │    362 │    363 │      310 │     359 │       404 │\n",
       "│  1953 │    235 │    272 │      201 │      196 │     196 │    264 │    243 │    236 │    229 │      180 │     211 │       237 │\n",
       "│  1955 │    269 │    347 │      278 │      233 │     242 │    364 │    315 │    267 │    270 │      237 │     274 │       312 │\n",
       "│  1957 │    348 │    467 │      336 │      301 │     315 │    465 │    422 │    356 │    355 │      305 │     347 │       404 │\n",
       "│  1956 │    313 │    405 │      306 │      277 │     284 │    413 │    374 │    317 │    318 │      271 │     306 │       355 │\n",
       "│  1949 │    129 │    148 │      118 │      118 │     112 │    148 │    135 │    132 │    121 │      104 │     119 │       136 │\n",
       "│  1959 │    396 │    559 │      405 │      342 │     360 │    548 │    472 │    406 │    420 │      362 │     407 │       463 │\n",
       "│  1952 │    181 │    242 │      194 │      180 │     171 │    230 │    218 │    193 │    183 │      172 │     191 │       209 │\n",
       "│  1950 │    135 │    170 │      140 │      126 │     115 │    170 │    149 │    141 │    125 │      114 │     133 │       158 │\n",
       "├───────┴────────┴────────┴──────────┴──────────┴─────────┴────────┴────────┴────────┴────────┴──────────┴─────────┴───────────┤\n",
       "│ 12 rows                                                                                                           13 columns │\n",
       "└──────────────────────────────────────────────────────────────────────────────────────────────────────────────────────────────┘"
      ]
     },
     "execution_count": 39,
     "metadata": {},
     "output_type": "execute_result"
    }
   ],
   "source": [
    "# working with Pivot operator\n",
    "duckdb.sql(\"SELECT * FROM (PIVOT flight_df ON month USING sum(passengers) GROUP BY year)\")"
   ]
  },
  {
   "cell_type": "code",
   "execution_count": 44,
   "id": "919b6f04-4ff0-44be-a496-ca5f13620773",
   "metadata": {},
   "outputs": [
    {
     "data": {
      "text/plain": [
       "┌───────┬───────────┬────────────┬───────┐\n",
       "│ year  │   month   │ passengers │  rn   │\n",
       "│ int64 │  varchar  │   int64    │ int64 │\n",
       "├───────┼───────────┼────────────┼───────┤\n",
       "│  1955 │ January   │        242 │     1 │\n",
       "│  1955 │ February  │        233 │     2 │\n",
       "│  1955 │ March     │        267 │     3 │\n",
       "│  1955 │ April     │        269 │     4 │\n",
       "│  1955 │ May       │        270 │     5 │\n",
       "│  1955 │ June      │        315 │     6 │\n",
       "│  1955 │ July      │        364 │     7 │\n",
       "│  1955 │ August    │        347 │     8 │\n",
       "│  1955 │ September │        312 │     9 │\n",
       "│  1955 │ October   │        274 │    10 │\n",
       "│    ·  │   ·       │         ·  │     · │\n",
       "│    ·  │   ·       │         ·  │     · │\n",
       "│    ·  │   ·       │         ·  │     · │\n",
       "│  1958 │ March     │        362 │     3 │\n",
       "│  1958 │ April     │        348 │     4 │\n",
       "│  1958 │ May       │        363 │     5 │\n",
       "│  1958 │ June      │        435 │     6 │\n",
       "│  1958 │ July      │        491 │     7 │\n",
       "│  1958 │ August    │        505 │     8 │\n",
       "│  1958 │ September │        404 │     9 │\n",
       "│  1958 │ October   │        359 │    10 │\n",
       "│  1958 │ November  │        310 │    11 │\n",
       "│  1958 │ December  │        337 │    12 │\n",
       "├───────┴───────────┴────────────┴───────┤\n",
       "│ 144 rows (20 shown)          4 columns │\n",
       "└────────────────────────────────────────┘"
      ]
     },
     "execution_count": 44,
     "metadata": {},
     "output_type": "execute_result"
    }
   ],
   "source": [
    "# generating row numbers\n",
    "duckdb.sql(\"select * , row_number() over( partition by year order by year desc) as rn from flight_df\")"
   ]
  }
 ],
 "metadata": {
  "kernelspec": {
   "display_name": "Python 3 (ipykernel)",
   "language": "python",
   "name": "python3"
  },
  "language_info": {
   "codemirror_mode": {
    "name": "ipython",
    "version": 3
   },
   "file_extension": ".py",
   "mimetype": "text/x-python",
   "name": "python",
   "nbconvert_exporter": "python",
   "pygments_lexer": "ipython3",
   "version": "3.8.18"
  }
 },
 "nbformat": 4,
 "nbformat_minor": 5
}
